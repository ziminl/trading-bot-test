{
 "cells": [
  {
   "cell_type": "code",
   "execution_count": 27,
   "id": "a794316a-3486-4cbf-9a7c-b85c1d8d39f5",
   "metadata": {},
   "outputs": [],
   "source": [
    "import vectorbt as vbt\n",
    "import pandas as pd\n",
    "import numpy as np\n",
    "import talib\n",
    "import datetime as dt\n",
    "import json\n",
    "import requests\n",
    "\n",
    "URL = 'https://api.binance.com/api/v3/klines'\n",
    " \n",
    "intervals_to_secs = {\n",
    "    '1m':60,\n",
    "    '3m':180,\n",
    "    '5m':300,\n",
    "    '15m':900,\n",
    "    '30m':1800,\n",
    "    '1h':3600,\n",
    "    '2h':7200,\n",
    "    '4h':14400,\n",
    "    '6h':21600,\n",
    "    '8h':28800,\n",
    "    '12h':43200,\n",
    "    '1d':86400,\n",
    "    '3d':259200,\n",
    "    '1w':604800,\n",
    "    '1M':2592000\n",
    "}\n",
    " \n",
    "def download_kline_data(start: dt.datetime, end:dt.datetime ,ticker:str, interval:str)-> pd.DataFrame:\n",
    "    start = int(start.timestamp()*1000)\n",
    "    end = int(end.timestamp()*1000)\n",
    "    full_data = pd.DataFrame()\n",
    "     \n",
    "    while start < end:\n",
    "        par = {'symbol': ticker, 'interval': interval, 'startTime': str(start), 'endTime': str(end), 'limit':1000}\n",
    "        data = pd.DataFrame(json.loads(requests.get(URL, params= par).text))\n",
    " \n",
    "        data.index = [dt.datetime.fromtimestamp(x/1000.0) for x in data.iloc[:,0]]\n",
    "        data=data.astype(float)\n",
    "        full_data = pd.concat([full_data,data])\n",
    "         \n",
    "        start+=intervals_to_secs[interval]*1000*1000\n",
    "         \n",
    "    full_data.columns = ['Datetime', 'Open', 'High', 'Low', 'Close', 'Volume','Close_time', 'Qav', 'Num_trades','Taker_base_vol', 'Taker_quote_vol', 'Ignore']\n",
    "     \n",
    "    return full_data"
   ]
  },
  {
   "cell_type": "code",
   "execution_count": 28,
   "id": "31d724e6-adda-43f6-8073-83db76141a07",
   "metadata": {},
   "outputs": [],
   "source": [
    "\n",
    "# UT Bot Parameters\n",
    "SENSITIVITY = 1\n",
    "ATR_PERIOD = 10\n",
    " \n",
    "# Ticker and timeframe\n",
    "TICKER = \"BTCUSDT\"\n",
    "INTERVAL = \"1d\"\n",
    " \n",
    "# Backtest start/end date\n",
    "START = dt.datetime(2017,8,17)\n",
    "END   = dt.datetime.now()"
   ]
  },
  {
   "cell_type": "code",
   "execution_count": 29,
   "id": "3eb30d27-2bd3-47cc-bce8-23290795cc77",
   "metadata": {},
   "outputs": [],
   "source": [
    "pd_data = download_kline_data(START, END, TICKER, INTERVAL)"
   ]
  },
  {
   "cell_type": "code",
   "execution_count": 30,
   "id": "d483643a-52c4-4674-bd9e-79ada66633e2",
   "metadata": {},
   "outputs": [],
   "source": [
    "# Compute ATR And nLoss variable\n",
    "pd_data[\"xATR\"] = talib.ATR(pd_data[\"High\"], pd_data[\"Low\"], pd_data[\"Close\"], timeperiod=ATR_PERIOD)\n",
    "pd_data[\"nLoss\"] = SENSITIVITY * pd_data[\"xATR\"]\n",
    " \n",
    "#Drop all rows that have nan, X first depending on the ATR preiod for the moving average\n",
    "pd_data = pd_data.dropna()\n",
    "pd_data = pd_data.reset_index()"
   ]
  },
  {
   "cell_type": "code",
   "execution_count": 31,
   "id": "78ef769c-c758-4816-9054-ee70afc7e9a1",
   "metadata": {},
   "outputs": [],
   "source": [
    "# Function to compute ATRTrailingStop\n",
    "def xATRTrailingStop_func(close, prev_close, prev_atr, nloss):\n",
    "    if close > prev_atr and prev_close > prev_atr:\n",
    "        return max(prev_atr, close - nloss)\n",
    "    elif close < prev_atr and prev_close < prev_atr:\n",
    "        return min(prev_atr, close + nloss)\n",
    "    elif close > prev_atr:\n",
    "        return close - nloss\n",
    "    else:\n",
    "        return close + nloss\n",
    " \n",
    "# Filling ATRTrailingStop Variable\n",
    "pd_data[\"ATRTrailingStop\"] = [0.0] + [np.nan for i in range(len(pd_data) - 1)]\n",
    " \n",
    "for i in range(1, len(pd_data)):\n",
    "    pd_data.loc[i, \"ATRTrailingStop\"] = xATRTrailingStop_func(\n",
    "        pd_data.loc[i, \"Close\"],\n",
    "        pd_data.loc[i - 1, \"Close\"],\n",
    "        pd_data.loc[i - 1, \"ATRTrailingStop\"],\n",
    "        pd_data.loc[i, \"nLoss\"],\n",
    "    )"
   ]
  },
  {
   "cell_type": "code",
   "execution_count": 32,
   "id": "c77d29a5-540d-4baa-80ae-9e5f5465f9dc",
   "metadata": {},
   "outputs": [],
   "source": [
    "# Calculating signals\n",
    "ema = vbt.MA.run(pd_data[\"Close\"], 1, short_name='EMA', ewm=True)\n",
    " \n",
    "pd_data[\"Above\"] = ema.ma_crossed_above(pd_data[\"ATRTrailingStop\"])\n",
    "pd_data[\"Below\"] = ema.ma_crossed_below(pd_data[\"ATRTrailingStop\"])\n",
    " \n",
    "pd_data[\"Buy\"] = (pd_data[\"Close\"] > pd_data[\"ATRTrailingStop\"]) & (pd_data[\"Above\"]==True)\n",
    "pd_data[\"Sell\"] = (pd_data[\"Close\"] < pd_data[\"ATRTrailingStop\"]) & (pd_data[\"Below\"]==True)\n",
    "\n"
   ]
  },
  {
   "cell_type": "code",
   "execution_count": 33,
   "id": "c2b93702-2048-4d1a-9c72-f6b8bc6a0a7e",
   "metadata": {},
   "outputs": [],
   "source": [
    "# Run the strategy\n",
    "pf = vbt.Portfolio.from_signals(\n",
    "    pd_data[\"Close\"],\n",
    "    entries=pd_data[\"Buy\"],\n",
    "    short_entries=pd_data[\"Sell\"],\n",
    "    upon_opposite_entry='ReverseReduce', \n",
    "    freq = \"d\"\n",
    ")"
   ]
  },
  {
   "cell_type": "code",
   "execution_count": 34,
   "id": "39ca06c2-95af-432b-a0a5-de5b5d41977d",
   "metadata": {},
   "outputs": [
    {
     "data": {
      "text/plain": [
       "Start                                                  0\n",
       "End                                                 2546\n",
       "Period                                2547 days 00:00:00\n",
       "Start Value                                        100.0\n",
       "End Value                                     273.596506\n",
       "Total Return [%]                              173.596506\n",
       "Benchmark Return [%]                         1250.054408\n",
       "Max Gross Exposure [%]                             100.0\n",
       "Total Fees Paid                                      0.0\n",
       "Max Drawdown [%]                               60.805122\n",
       "Max Drawdown Duration                  919 days 00:00:00\n",
       "Total Trades                                         277\n",
       "Total Closed Trades                                  276\n",
       "Total Open Trades                                      1\n",
       "Open Trade PnL                                 -3.108522\n",
       "Win Rate [%]                                   35.144928\n",
       "Best Trade [%]                                126.663976\n",
       "Worst Trade [%]                               -21.189107\n",
       "Avg Winning Trade [%]                          13.494088\n",
       "Avg Losing Trade [%]                           -5.499796\n",
       "Avg Winning Trade Duration    15 days 03:27:50.103092783\n",
       "Avg Losing Trade Duration      5 days 23:27:49.273743016\n",
       "Profit Factor                                   1.060027\n",
       "Expectancy                                      0.640236\n",
       "Sharpe Ratio                                    0.545012\n",
       "Calmar Ratio                                    0.255169\n",
       "Omega Ratio                                     1.088769\n",
       "Sortino Ratio                                   0.850702\n",
       "dtype: object"
      ]
     },
     "execution_count": 34,
     "metadata": {},
     "output_type": "execute_result"
    }
   ],
   "source": [
    "pf.stats()"
   ]
  },
  {
   "cell_type": "code",
   "execution_count": null,
   "id": "b83dc668-7a93-406c-a615-7232e5e7051b",
   "metadata": {},
   "outputs": [],
   "source": []
  }
 ],
 "metadata": {
  "kernelspec": {
   "display_name": "Python 3 (ipykernel)",
   "language": "python",
   "name": "python3"
  },
  "language_info": {
   "codemirror_mode": {
    "name": "ipython",
    "version": 3
   },
   "file_extension": ".py",
   "mimetype": "text/x-python",
   "name": "python",
   "nbconvert_exporter": "python",
   "pygments_lexer": "ipython3",
   "version": "3.8.10"
  }
 },
 "nbformat": 4,
 "nbformat_minor": 5
}
